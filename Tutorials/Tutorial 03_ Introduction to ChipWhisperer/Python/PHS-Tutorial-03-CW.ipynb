{
 "cells": [
  {
   "cell_type": "markdown",
   "id": "0a2bbe61",
   "metadata": {},
   "source": [
    "__Tutorial 03 - Introduction to ChipWhisperer__"
   ]
  },
  {
   "cell_type": "markdown",
   "id": "44b64d1e",
   "metadata": {
    "heading_collapsed": true
   },
   "source": [
    "# Introduction"
   ]
  },
  {
   "cell_type": "markdown",
   "id": "8c43f2ac",
   "metadata": {
    "heading_collapsed": true,
    "hidden": true
   },
   "source": [
    "## Side-Channel Analysis (SCA) Attacks"
   ]
  },
  {
   "cell_type": "markdown",
   "id": "29138440",
   "metadata": {
    "hidden": true
   },
   "source": [
    "As computer hardware devices perform various computations, their physical properties can be measured and used to identify what \"functions/operations\" are being performed and even the contents of the underlying \"data.\" These physical properties are referred to as side-channel leakages, and come in many forms. For example, as the circuit is performing the operations, the effects can be seen on the power consumption on the chip, as well as in the electromagnetic and thermal emanations measured externally. The usage of side-channel leakages to break into a system is known as \"Side-Channel Analysis (SCA) Attacks.\""
   ]
  },
  {
   "cell_type": "markdown",
   "id": "522d0096",
   "metadata": {
    "hidden": true
   },
   "source": [
    "In this tutorial, we will use the power consumption from running scripts (firmware) to determine when has the code terminated its execution. In other words, we will use power SCA to facilitate on finding information leakage from the system."
   ]
  },
  {
   "cell_type": "markdown",
   "id": "55c72886",
   "metadata": {
    "heading_collapsed": true,
    "hidden": true
   },
   "source": [
    "## ChipWhisperer (CW)"
   ]
  },
  {
   "cell_type": "markdown",
   "id": "1478cc8f",
   "metadata": {
    "hidden": true
   },
   "source": [
    "The ChipWhisperer (CW) Nano (see Fig. 1) is a low cost platform for performing power Side-Channel Analysis (SCA) attacks in training and educational environments. This device has 2 main section: TARGET and CAPTURE.\n",
    "\n",
    "* __TARGET Section:__ This part holds a basic micro-controller (µController) that will run the \"Victim\" code we want to attack. \n",
    "* __CAPTURE Section:__ This contains all the circuit necessary to collect the power traces from the TARGET section. This behaves as an oscilloscope (or Scope) that only collects power traces from the \"Victim µController.\" This section has another µController that performs all the computations and interface (i.e., input/output connections) for the Scope and some memory to save all the power samples collected before sending to the PC.\n",
    "Since the power values are \"Analog\" signals, an \"Analog-to-Digital Converter\" (ADC) will convert this signal to \"Digital\" signal (i.e., binary) so it can be saved and sent to the PC.\n",
    "\n",
    "Both the CAPTURE and TARGET section can communicate with the PC using the same USB-B (or micro-USB) port."
   ]
  },
  {
   "cell_type": "markdown",
   "id": "ab52e017",
   "metadata": {
    "hidden": true
   },
   "source": [
    "<span class=\"mark\">![fig_cw](../Figures/fig_cw.png)\n",
    "Fig. 1: Illustration of the ChipWhisperer-Nano and its main important parts.</span>"
   ]
  },
  {
   "cell_type": "markdown",
   "id": "6d53ed2a",
   "metadata": {
    "hidden": true
   },
   "source": [
    "We will use the CW-Nano to run the victim script on the CW's \"target\" and collect its power consumption traces with the integrated CW's \"scope\" on the capture section.\n",
    "\n",
    "To facilitate, we will use this Jupyter Notebook to connect and interact with the CW using simple/easy python code. We provided with all the necessary code and instructions, just follow the steps on the next sections."
   ]
  },
  {
   "cell_type": "markdown",
   "id": "72e7a0d0",
   "metadata": {
    "heading_collapsed": true
   },
   "source": [
    "# Create a Firmware Script"
   ]
  },
  {
   "cell_type": "markdown",
   "id": "98d6dd8b",
   "metadata": {
    "hidden": true
   },
   "source": [
    "Before starting, we need to make a firmware (victim) script in C language to be running on the CW's target.\n",
    "\n",
    "* Under`cw-base-setup/simpleserial-base` directory, make a copy of the `simpleserial-base` files (`simpleserial-base.c` and the `makefile`) and move them into your `PHS-Tutorial-03-CW/Firmware` directory.\n",
    "\n",
    "* Under `PHS-Tutorial-03-CW/Firmware` directory, rename the `simpleserial-base.c` copy to `tutorial-cw.c`, and update the `makefile` accordingly:\n",
    "    * lines 33 and 37 of the `makefile` with the updated file name.\n",
    "    * because the files moved location, lines 45 - 49 replace with:"
   ]
  },
  {
   "cell_type": "raw",
   "id": "75f6184a",
   "metadata": {
    "hidden": true
   },
   "source": [
    "#Path to Base/Setup Firmware Directory (i.e., cw-base-setup)\n",
    "FIRMWAREPATH = ../../cw-base-setup\n",
    "\n",
    "#Add simpleserial project to build\n",
    "include $(FIRMWAREPATH)/simpleserial/Makefile.simpleserial\n",
    "\n",
    "#Add other relevant components project to build\n",
    "include $(FIRMWAREPATH)/Makefile.inc"
   ]
  },
  {
   "cell_type": "markdown",
   "id": "91e19d49",
   "metadata": {
    "hidden": true
   },
   "source": [
    "* Open the `tutorial-cw.c` file and remove the following functions (not needed): `get_key`, `reset`, and `aes`. Also, remove `#if SS_VER == SS_VER_2_1` and `#endif` around the `aes` function. You should only have the 4 `#include` lines and 2 functions: `get_pt` and `main`.\n",
    "\n",
    "* Using the function `get_pt` as a template, create two new functions named: `read_and_send` and `get_sum`."
   ]
  },
  {
   "cell_type": "markdown",
   "id": "a78faaff",
   "metadata": {
    "heading_collapsed": true,
    "hidden": true
   },
   "source": [
    "## read_and_send function"
   ]
  },
  {
   "cell_type": "markdown",
   "id": "96a6387a",
   "metadata": {
    "hidden": true
   },
   "source": [
    "Let's start with `read_and_send` function. This function will just read an array of 16 bytes (i.e., unsigned integers from 0 to 255) and then send it back. Below is a screenshot of how this function should look like. Please, write this code for your `read_and_send` function:"
   ]
  },
  {
   "cell_type": "markdown",
   "id": "2ff25e82",
   "metadata": {
    "hidden": true
   },
   "source": [
    "<span class=\"mark\">![read_and_send_code](../Figures/read_and_send_code.png)\n",
    "Fig. 2: \"read_and_send\" function code (in C) parts.</span>"
   ]
  },
  {
   "cell_type": "markdown",
   "id": "37e3bc33",
   "metadata": {
    "hidden": true
   },
   "source": [
    "We will test this script later in sections 3-5.\n",
    "\n",
    "__What does this code mean?__\n",
    "\n",
    "* First, it will accept an array of 16 bytes (8-bits unsigned int).\n",
    "* Then, indicate the start (`trigger_high()`) and end (`trigger_low()`) of the data collection. In this case, there is nothing to collect.\n",
    "* Finally, sends back (using simpleserial) the same array `pt` to the user. You will be able to read this from the CW."
   ]
  },
  {
   "cell_type": "markdown",
   "id": "01086372",
   "metadata": {
    "heading_collapsed": true,
    "hidden": true
   },
   "source": [
    "## get_sum function"
   ]
  },
  {
   "cell_type": "markdown",
   "id": "b2fd587d",
   "metadata": {
    "hidden": true
   },
   "source": [
    "Now, let's move to `get_sum` function. This function will just read an array of 16 bytes (i.e., unsigned integers from 0 to 255), then perform a sum across all 16 elements of the input array, and return the final value. Below is a screenshot of how this function should look like. Please, write this code for your `get_sum`:"
   ]
  },
  {
   "cell_type": "markdown",
   "id": "fb753540",
   "metadata": {
    "hidden": true
   },
   "source": [
    "<span class=\"mark\">![get_sum_code](../Figures/get_sum_code.png)\n",
    "Fig. 3: \"get_sum_code\" function code (in C) parts.</span>"
   ]
  },
  {
   "cell_type": "markdown",
   "id": "9ec7d1c7",
   "metadata": {
    "hidden": true
   },
   "source": [
    "We will test this script later in sections 3-5.\n",
    "\n",
    "__What does this code mean?__\n",
    "\n",
    "* First, it will accept an array of 16 bytes (8-bits unsigned int).\n",
    "* Second, initializes some variables:\n",
    "    * `i` for the loop iterations, \n",
    "    * `sum` to keep track of the sum, and \n",
    "    * `result` to convert the `sum` to a 16 bytes array needed for sending to the user through simpleserial.\n",
    "* Third, indicate the start (`trigger_high()`) and end (`trigger_low()`) of the data collection. In this case, there is nothing to collect.\n",
    "    * In between these indicators, we wrote the victim code we want to capture its power trace. In this case, the loop doing the `sum` across all 16 bytes from the input array.\n",
    "* Fourth, convert the `sum` to a byte array in big endian. Meading, we need to extract every least significant 8 bits from `sum` and same in the `result` array (right to left).\n",
    "\n",
    "* Finally, send (using simpleserial) the `result` array to the user. You will be able to read this from the CW."
   ]
  },
  {
   "cell_type": "markdown",
   "id": "3ae92ede",
   "metadata": {
    "heading_collapsed": true,
    "hidden": true
   },
   "source": [
    "## main function"
   ]
  },
  {
   "cell_type": "markdown",
   "id": "e1b17685",
   "metadata": {
    "hidden": true
   },
   "source": [
    "Now, let's move to `main` function. This function will setup and initialize the CW, UART, scope triggers, and simpleserial. Then, it will associate your previous functions to a command (i.e., a character) to the simpleserial. Lastly, it will infinitely loop requesting and waiting for a command from the user to do something. Below is a screenshot of how this function should look like. Please, write this code for your `main` function:"
   ]
  },
  {
   "cell_type": "markdown",
   "id": "2eebe9c7",
   "metadata": {
    "hidden": true
   },
   "source": [
    "<span class=\"mark\">![main_code](../Figures/main_code.png)\n",
    "Fig. 2: \"get_sum_code\" function code (in C) parts.</span>"
   ]
  },
  {
   "cell_type": "markdown",
   "id": "1bbc3574",
   "metadata": {
    "hidden": true
   },
   "source": [
    "We will test this script later in sections 3-5.\n",
    "\n",
    "__What does this code mean?__\n",
    "\n",
    "* First, initializes and setsup the CW and simpleserial (to communicate with the CW).\n",
    "* Then, associate each of your functions to a command (1 character) and add this to the simpleserial.\n",
    "    * Syntax: `simpleserial_addcmd(cmd, 16, funct_name);`\n",
    "    * `cmd`: 1 character command (different for each function), and\n",
    "    * `funct_name`: name of the function (<span class=\"burk\">NOT</span> as a string).\n",
    "* Finally, wait for a command from the user for the respective function: 'a' for `read_and_send` or 'b' for `get_sum`."
   ]
  },
  {
   "cell_type": "markdown",
   "id": "0e0312ad",
   "metadata": {
    "heading_collapsed": true
   },
   "source": [
    "# Setup"
   ]
  },
  {
   "cell_type": "markdown",
   "id": "87f520bc",
   "metadata": {
    "heading_collapsed": true,
    "hidden": true
   },
   "source": [
    "## Importing Python Libraries & Setup ChipWhisperer"
   ]
  },
  {
   "cell_type": "markdown",
   "id": "2d05889c",
   "metadata": {
    "hidden": true
   },
   "source": [
    "Now that the firmware is done, let's get to the Python part:\n",
    "\n",
    "Begin by importing the required libraries, connecting to the scope, and applying the default setup:"
   ]
  },
  {
   "cell_type": "code",
   "execution_count": null,
   "id": "mechanical-break",
   "metadata": {
    "hidden": true,
    "scrolled": true
   },
   "outputs": [],
   "source": [
    "%matplotlib notebook\n",
    "import matplotlib.pyplot as plt\n",
    "import chipwhisperer as cw\n",
    "import numpy as np\n",
    "import scipy.stats\n",
    "from tqdm import tnrange\n",
    "\n",
    "\n",
    "# This is an API for your CW's scope (in the CAPTURE section)\n",
    "scope = cw.scope()\n",
    "\n",
    "# This is an API for your CW's target (in the TARGET section)\n",
    "target = cw.target(scope, cw.targets.SimpleSerial)\n",
    "\n",
    "# Sets the scope's default settings\n",
    "scope.default_setup()\n",
    "\n",
    "# Cap the max num of power trace samples to collect\n",
    "scope.adc.samples = 500\n",
    "\n",
    "# Prints the scope settings\n",
    "print(scope)\n",
    "\n",
    "print(\"✔️ OK to continue!\")"
   ]
  },
  {
   "cell_type": "markdown",
   "id": "dynamic-bloom",
   "metadata": {
    "hidden": true
   },
   "source": [
    "Next, compile the firmware (the C code you wrote):"
   ]
  },
  {
   "cell_type": "code",
   "execution_count": null,
   "id": "great-chosen",
   "metadata": {
    "hidden": true,
    "scrolled": true
   },
   "outputs": [],
   "source": [
    "%%bash\n",
    "cd ../Firmware\n",
    "make PLATFORM=CWNANO CRYPTO_TARGET=NONE"
   ]
  },
  {
   "cell_type": "markdown",
   "id": "equal-trinidad",
   "metadata": {
    "hidden": true
   },
   "source": [
    "Program the microcontroller with the \"tutorial-cw-CWNANO\" hex file:"
   ]
  },
  {
   "cell_type": "code",
   "execution_count": null,
   "id": "copyrighted-mississippi",
   "metadata": {
    "hidden": true,
    "scrolled": true
   },
   "outputs": [],
   "source": [
    "prog = cw.programmers.STM32FProgrammer\n",
    "fw_path = '../Firmware/tutorial-cw-CWNANO.hex'\n",
    "cw.program_target(scope, prog, fw_path)\n",
    "\n",
    "print(\"✔️ OK to continue!\")"
   ]
  },
  {
   "cell_type": "markdown",
   "id": "415b200e",
   "metadata": {
    "heading_collapsed": true,
    "hidden": true
   },
   "source": [
    "## Function to Reset Target"
   ]
  },
  {
   "cell_type": "markdown",
   "id": "historic-latex",
   "metadata": {
    "hidden": true
   },
   "source": [
    "This function allow you to reset the target from your code:"
   ]
  },
  {
   "cell_type": "code",
   "execution_count": null,
   "id": "balanced-comedy",
   "metadata": {
    "hidden": true,
    "scrolled": true
   },
   "outputs": [],
   "source": [
    "import time\n",
    "def reset_target(): \n",
    "    target.flush()\n",
    "    scope.io.nrst = 'low'\n",
    "    time.sleep(0.2)\n",
    "    scope.io.nrst = 'high'\n",
    "    time.sleep(0.01)"
   ]
  },
  {
   "cell_type": "markdown",
   "id": "documented-toronto",
   "metadata": {
    "hidden": true
   },
   "source": [
    "Call this two function here:"
   ]
  },
  {
   "cell_type": "code",
   "execution_count": null,
   "id": "ideal-block",
   "metadata": {
    "hidden": true,
    "scrolled": false
   },
   "outputs": [],
   "source": [
    "reset_target()\n",
    "print(\"✔️ OK to continue!\")"
   ]
  },
  {
   "cell_type": "markdown",
   "id": "d72867e5",
   "metadata": {
    "heading_collapsed": true
   },
   "source": [
    "# Send/Read Data"
   ]
  },
  {
   "cell_type": "markdown",
   "id": "89ef7be4",
   "metadata": {
    "hidden": true
   },
   "source": [
    "Now that you have setup the CW, then send and read some data from the target."
   ]
  },
  {
   "cell_type": "markdown",
   "id": "b038e896",
   "metadata": {
    "heading_collapsed": true,
    "hidden": true
   },
   "source": [
    "## read_and_send function"
   ]
  },
  {
   "cell_type": "markdown",
   "id": "f257bf80",
   "metadata": {
    "hidden": true
   },
   "source": [
    "Test your `read_and_send` function (command = 'a'). Sends 16 random bytes (hardcoded).\n",
    "Then, verify the results using python."
   ]
  },
  {
   "cell_type": "code",
   "execution_count": null,
   "id": "f245e4fd",
   "metadata": {
    "hidden": true,
    "scrolled": true
   },
   "outputs": [],
   "source": [
    "# reset target and read start-up text\n",
    "reset_target()\n",
    "\n",
    "# example data list to send\n",
    "d = [3, 5, 26, 22, 200, 12, 45, 23, 87, 43, 97, 157, 138, 234, 27, 2]\n",
    "\n",
    "# converts list to bytearray\n",
    "b = bytearray(d)\n",
    "\n",
    "# send the bytearray to the CW function with command 'a'\n",
    "target.simpleserial_write('a', b)\n",
    "\n",
    "# read data from CW\n",
    "r = target.simpleserial_read('r', 16)\n",
    "\n",
    "# print data response:\n",
    "print(r)\n",
    "\n",
    "# convert data respose from bytearray to list of int, then print\n",
    "result = list(r)\n",
    "print(result)\n",
    "\n",
    "# verify if response value match expectation\n",
    "assert result == d\n",
    "print(\"✔️ OK to continue!\")"
   ]
  },
  {
   "cell_type": "markdown",
   "id": "e3853f70",
   "metadata": {
    "heading_collapsed": true,
    "hidden": true
   },
   "source": [
    "## get_sum function"
   ]
  },
  {
   "cell_type": "markdown",
   "id": "33e5c882",
   "metadata": {
    "hidden": true
   },
   "source": [
    "Test your `get_sum` function (command = 'b'). Uses the same bytearray `b` with the same data from before.\n",
    "Then, verify the results using python."
   ]
  },
  {
   "cell_type": "code",
   "execution_count": null,
   "id": "a16fe488",
   "metadata": {
    "hidden": true,
    "scrolled": true
   },
   "outputs": [],
   "source": [
    "# reset target and read start-up text\n",
    "reset_target()\n",
    "\n",
    "# send the bytearray to the CW function with command 'b'\n",
    "target.simpleserial_write('b', b)\n",
    "\n",
    "# read data from CW\n",
    "r = target.simpleserial_read('r', 16)\n",
    "\n",
    "# print data response:\n",
    "print(r)\n",
    "\n",
    "# convert data respose from bytearray to int, then print\n",
    "result = int.from_bytes(r, \"big\")\n",
    "print(result)\n",
    "\n",
    "# verify if response value match expectation\n",
    "assert result == sum(d)\n",
    "print(\"✔️ OK to continue!\")"
   ]
  },
  {
   "cell_type": "markdown",
   "id": "prospective-cologne",
   "metadata": {
    "heading_collapsed": true
   },
   "source": [
    "# Record & Plot Traces"
   ]
  },
  {
   "cell_type": "markdown",
   "id": "accessory-delicious",
   "metadata": {
    "hidden": true
   },
   "source": [
    "Now that you can communicate with your system and the firmware are correct, our next goal is to get a power trace while the target is running. To do this, you'll arm the scope just before you send the data, then record the trace as you did in the tutorial.\n",
    "\n",
    "Hint: it is similar to sending/reading data as before, but instead of reading data from the CW, you are capturing power traces."
   ]
  },
  {
   "cell_type": "markdown",
   "id": "8ed12a55",
   "metadata": {
    "heading_collapsed": true,
    "hidden": true
   },
   "source": [
    "## read_and_send function"
   ]
  },
  {
   "cell_type": "markdown",
   "id": "9347b9a7",
   "metadata": {
    "hidden": true
   },
   "source": [
    "Get power traces from your `read_and_send` function (command = 'a'). Use the same bytearray `b` with the same data from before."
   ]
  },
  {
   "cell_type": "code",
   "execution_count": null,
   "id": "d00543dd",
   "metadata": {
    "hidden": true,
    "scrolled": true
   },
   "outputs": [],
   "source": [
    "# reset target and read start-up text\n",
    "reset_target()\n",
    "\n",
    "# arm the CW scope to be ready to capture power traces\n",
    "scope.arm()\n",
    "\n",
    "# send the bytearray to the CW function with command 'b'\n",
    "target.simpleserial_write('a', b)\n",
    "\n",
    "# start the scope to capture power traces\n",
    "ret = scope.capture()\n",
    "if ret:\n",
    "    print('Timeout happened during acquisition')\n",
    "\n",
    "# get the power trace from the CW\n",
    "trace1 = scope.get_last_trace()\n",
    "\n",
    "# print number of samples:\n",
    "print(len(trace1))\n",
    "\n",
    "# print some sample power traces (only first 50)\n",
    "print(trace1[:50])\n",
    "\n",
    "# verify if the trace is collected correctly\n",
    "assert type(trace1) == np.ndarray\n",
    "assert len(trace1)  == 500\n",
    "print(\"✔️ OK to continue!\")"
   ]
  },
  {
   "cell_type": "markdown",
   "id": "dc7908ee",
   "metadata": {
    "hidden": true
   },
   "source": [
    "Then, plot the power traces:"
   ]
  },
  {
   "cell_type": "code",
   "execution_count": null,
   "id": "c70f78d7",
   "metadata": {
    "hidden": true
   },
   "outputs": [],
   "source": [
    "# makes new empty plot\n",
    "plt.figure(figsize=(5.5, 3.5), constrained_layout=True)\n",
    "# figsize: (width, height) in inches.\n",
    "# constrained_layout: makes sures the plot fits tight within the image boundaries.\n",
    "\n",
    "# plots the data\n",
    "plt.plot(trace1, color=\"b\")\n",
    "\n",
    "# format your plots\n",
    "plt.title(\"Title\")            # adds title\n",
    "plt.xlabel(\"Sample Number\")  # adds x-axis label\n",
    "plt.ylabel(\"Power\")          # adds y-axis label\n",
    "# ... and more ...\n",
    "\n",
    "# saves the plot\n",
    "plt.savefig(\"../Figures/fig-name1.pdf\")\n",
    "\n",
    "# show the plot on your screen\n",
    "plt.show()"
   ]
  },
  {
   "cell_type": "markdown",
   "id": "17abbb7a",
   "metadata": {
    "heading_collapsed": true,
    "hidden": true
   },
   "source": [
    "## get_sum function"
   ]
  },
  {
   "cell_type": "markdown",
   "id": "f17179c7",
   "metadata": {
    "hidden": true
   },
   "source": [
    "Get power traces from your `get_sum` function (command = 'a'). Use the same bytearray `b` with the same data from before."
   ]
  },
  {
   "cell_type": "code",
   "execution_count": null,
   "id": "67db9aae",
   "metadata": {
    "hidden": true,
    "scrolled": false
   },
   "outputs": [],
   "source": [
    "# reset target and read start-up text\n",
    "reset_target()\n",
    "\n",
    "# arm the CW scope to be ready to capture power traces\n",
    "scope.arm()\n",
    "\n",
    "# send the bytearray to the CW function with command 'b'\n",
    "target.simpleserial_write('b', b)\n",
    "\n",
    "# start the scope to capture power traces\n",
    "ret = scope.capture()\n",
    "if ret:\n",
    "    print('Timeout happened during acquisition')\n",
    "\n",
    "# get the power trace from the CW\n",
    "trace2 = scope.get_last_trace()\n",
    "\n",
    "# print number of samples:\n",
    "print(len(trace2))\n",
    "\n",
    "# print some sample power traces (only first 50)\n",
    "print(trace2[:50])\n",
    "\n",
    "# verify if the trace is collected correctly\n",
    "assert type(trace2) == np.ndarray\n",
    "assert len(trace2)  == 500\n",
    "print(\"✔️ OK to continue!\")"
   ]
  },
  {
   "cell_type": "markdown",
   "id": "6a79ab58",
   "metadata": {
    "hidden": true
   },
   "source": [
    "Then, plot the power traces:"
   ]
  },
  {
   "cell_type": "code",
   "execution_count": null,
   "id": "432203b2",
   "metadata": {
    "hidden": true,
    "scrolled": false
   },
   "outputs": [],
   "source": [
    "# makes new empty plot\n",
    "plt.figure(figsize=(5.5, 3.5), constrained_layout=True)\n",
    "# figsize: (width, height) in inches.\n",
    "# constrained_layout: makes sures the plot fits tight within the image boundaries.\n",
    "\n",
    "# plots the data\n",
    "plt.plot(trace2, color=\"b\")\n",
    "\n",
    "# format your plots\n",
    "plt.title(\"Title\")            # adds title\n",
    "plt.xlabel(\"Sample Number\")  # adds x-axis label\n",
    "plt.ylabel(\"Power\")          # adds y-axis label\n",
    "# ... and more ...\n",
    "\n",
    "# saves the plot\n",
    "plt.savefig(\"../Figures/fig-name2.pdf\")\n",
    "\n",
    "# show the plot on your screen\n",
    "plt.show()"
   ]
  },
  {
   "cell_type": "markdown",
   "id": "8570a816",
   "metadata": {
    "heading_collapsed": true,
    "hidden": true
   },
   "source": [
    "## compare function"
   ]
  },
  {
   "cell_type": "markdown",
   "id": "ee4eb851",
   "metadata": {
    "hidden": true
   },
   "source": [
    "Let's plot both traces on the same figure and compare."
   ]
  },
  {
   "cell_type": "code",
   "execution_count": null,
   "id": "08f9badc",
   "metadata": {
    "hidden": true
   },
   "outputs": [],
   "source": [
    "# makes new empty plot\n",
    "plt.figure(figsize=(5.5, 3.5), constrained_layout=True)\n",
    "# figsize: (width, height) in inches.\n",
    "# constrained_layout: makes sures the plot fits tight within the image boundaries.\n",
    "\n",
    "# plots the data\n",
    "plt.plot(trace2[:250], color=\"b\", label=\"get_sum\")\n",
    "plt.plot(trace1[:250], color=\"r\", label=\"rean_and_send\")\n",
    "\n",
    "# format your plots\n",
    "plt.title(\"Title\")            # adds title\n",
    "plt.xlabel(\"Sample Number\")  # adds x-axis label\n",
    "plt.ylabel(\"Power\")          # adds y-axis label\n",
    "plt.legend()\n",
    "# ... and more ...\n",
    "\n",
    "# saves the plot\n",
    "plt.savefig(\"../Figures/fig-name3.pdf\")\n",
    "\n",
    "# show the plot on your screen\n",
    "plt.show()"
   ]
  },
  {
   "cell_type": "markdown",
   "id": "d918e605",
   "metadata": {
    "hidden": true
   },
   "source": [
    "Notice that `get_sum` have particular power spikes at each iteration of the sum. 16 spikes for 16 iterations.\n",
    "\n",
    "However, `read_and_send` does not have much of relevant power spikes. The random power consumption is mostly random noise and background operations unrelated to this function."
   ]
  },
  {
   "cell_type": "markdown",
   "id": "8ca080f9",
   "metadata": {
    "heading_collapsed": true
   },
   "source": [
    "# Diconnect Scope/Target"
   ]
  },
  {
   "cell_type": "markdown",
   "id": "81673045",
   "metadata": {
    "hidden": true
   },
   "source": [
    "After you are done, always diconnect the CW's scope and target:"
   ]
  },
  {
   "cell_type": "code",
   "execution_count": null,
   "id": "third-treasure",
   "metadata": {
    "hidden": true,
    "scrolled": true
   },
   "outputs": [],
   "source": [
    "scope.dis()\n",
    "target.dis()"
   ]
  },
  {
   "cell_type": "code",
   "execution_count": null,
   "id": "alpha-respondent",
   "metadata": {
    "hidden": true,
    "scrolled": true
   },
   "outputs": [],
   "source": []
  }
 ],
 "metadata": {
  "kernelspec": {
   "display_name": "Python 3 (ipykernel)",
   "language": "python",
   "name": "python3"
  },
  "language_info": {
   "codemirror_mode": {
    "name": "ipython",
    "version": 3
   },
   "file_extension": ".py",
   "mimetype": "text/x-python",
   "name": "python",
   "nbconvert_exporter": "python",
   "pygments_lexer": "ipython3",
   "version": "3.9.5"
  },
  "toc": {
   "base_numbering": 1,
   "nav_menu": {},
   "number_sections": true,
   "sideBar": true,
   "skip_h1_title": false,
   "title_cell": "Table of Contents",
   "title_sidebar": "Contents",
   "toc_cell": false,
   "toc_position": {
    "height": "828px",
    "left": "158px",
    "top": "111.141px",
    "width": "412px"
   },
   "toc_section_display": true,
   "toc_window_display": false
  },
  "varInspector": {
   "cols": {
    "lenName": 16,
    "lenType": 16,
    "lenVar": 40
   },
   "kernels_config": {
    "python": {
     "delete_cmd_postfix": "",
     "delete_cmd_prefix": "del ",
     "library": "var_list.py",
     "varRefreshCmd": "print(var_dic_list())"
    },
    "r": {
     "delete_cmd_postfix": ") ",
     "delete_cmd_prefix": "rm(",
     "library": "var_list.r",
     "varRefreshCmd": "cat(var_dic_list()) "
    }
   },
   "types_to_exclude": [
    "module",
    "function",
    "builtin_function_or_method",
    "instance",
    "_Feature"
   ],
   "window_display": false
  }
 },
 "nbformat": 4,
 "nbformat_minor": 5
}
