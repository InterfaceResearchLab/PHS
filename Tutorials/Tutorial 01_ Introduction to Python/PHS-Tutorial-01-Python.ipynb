{
 "cells": [
  {
   "cell_type": "markdown",
   "metadata": {
    "heading_collapsed": true
   },
   "source": [
    "# Introduction to Jupyter"
   ]
  },
  {
   "cell_type": "markdown",
   "metadata": {
    "hidden": true
   },
   "source": [
    "What are Jupyter notebooks? This is a critical one to start with so you've got a good idea of what they are! So following along with the next few notebooks before you do anything else!"
   ]
  },
  {
   "cell_type": "markdown",
   "metadata": {
    "heading_collapsed": true,
    "hidden": true
   },
   "source": [
    "## Running Scripts"
   ]
  },
  {
   "cell_type": "markdown",
   "metadata": {
    "hidden": true
   },
   "source": [
    "Jupyter notebooks are documents that combine Python code, rich text, and additional code (such as Bash), organized into executable blocks. Notebooks allow users to run blocks out of order and multiple times, giving greater control over what's being run than a Python script.\n",
    "\n",
    "Below is an example of a Python block. First select the block by clicking on it. A green or blue border should appear around the block, indicating that the block is selected. Next, hit the `>| Run` button on the toolbar at the top of your screen. The next block should now be highlighted."
   ]
  },
  {
   "cell_type": "code",
   "execution_count": null,
   "metadata": {
    "hidden": true
   },
   "outputs": [],
   "source": [
    "i = 0"
   ]
  },
  {
   "cell_type": "markdown",
   "metadata": {
    "hidden": true
   },
   "source": [
    "State is kept between Python blocks. Try running the next block multiple times to see how the printed number changes:"
   ]
  },
  {
   "cell_type": "code",
   "execution_count": null,
   "metadata": {
    "hidden": true
   },
   "outputs": [],
   "source": [
    "i += 1\n",
    "print(i)"
   ]
  },
  {
   "cell_type": "markdown",
   "metadata": {
    "hidden": true
   },
   "source": [
    "Notebooks also allow special blocks to be run. Two special blocks used throughout the tutorials are `bash` blocks, which allow bash commands to be run (note: if you're not using a bash-like terminal to run Jupyter, these blocks won't work for you):"
   ]
  },
  {
   "cell_type": "code",
   "execution_count": null,
   "metadata": {
    "hidden": true
   },
   "outputs": [],
   "source": [
    "%%bash\n",
    "echo \"Test bash\"\n",
    "i=0\n",
    "for j in *; do let \"i=i+1\"; done\n",
    "echo \"there are\" $i \"files/folders in this directory\""
   ]
  },
  {
   "cell_type": "markdown",
   "metadata": {
    "hidden": true
   },
   "source": [
    "And `run` blocks, which run other notebooks:"
   ]
  },
  {
   "cell_type": "code",
   "execution_count": null,
   "metadata": {
    "hidden": true
   },
   "outputs": [],
   "source": [
    "# this file \n",
    "%run \"Helper_Scripts/Test_Run.ipynb\""
   ]
  },
  {
   "cell_type": "markdown",
   "metadata": {
    "hidden": true
   },
   "source": [
    "Code can also be edited by clicking within the code portion of the block (the gray area). You can tell if you're in edit mode by the presence of a green border around the block. If you're not in edit mode, the border will be blue instead.\n",
    "\n",
    "To add new block, select any block (such as this text) not in edit mode and press `b` on your keyboard or click the `+` button on the top right. This will add a new block below."
   ]
  },
  {
   "cell_type": "markdown",
   "metadata": {
    "hidden": true
   },
   "source": [
    "You can also edit markdown/text blocks (such as this text) by double clicking them. Additionally, you can create new markdown block by first creating a code block as before, then click on the drop-down menu labeled \"Code\", and change it to a \"markdown\".\n",
    "\n",
    "You can create headings, subheadings, subsubheadings, ... by adding `#` before any text in a markdown block. One (1) `#` will make it a Heading, two (2) for subheadings, tree (3) for subsubheadings, so on..."
   ]
  },
  {
   "cell_type": "markdown",
   "metadata": {
    "heading_collapsed": true,
    "hidden": true
   },
   "source": [
    "## Completion Hints"
   ]
  },
  {
   "cell_type": "markdown",
   "metadata": {
    "hidden": true
   },
   "source": [
    "Quick! What does the numpy `np.argmax()` do and what are it's arguments?\n",
    "\n",
    "Luckily we can use some hinting features to tell us this. To try them out:\n",
    "\n",
    "1. Run the block below - because you don't want to continue to the next block, suggest using `Control-Enter` (you'll get an error - we have no argument!)\n",
    "2. Put your cursor inside the `()`, and press `Tab`+`Shift`. You shold get a pop-up hint window like show here:\n",
    "\n",
    "<img src=\"Figures/typehint.png\" alt=\"Example Hinting\" width=\"600\"/>\n",
    "\n",
    "Note this works if your cursor is anywhere on the function handle, so you can pretty quickly get this working. The only real requirement is you need to actually run the `import` statement first. Try getting the signature for `np.ndarray` for example by changing to that function first - and again press `Tab-Shift` to get the signature."
   ]
  },
  {
   "cell_type": "code",
   "execution_count": null,
   "metadata": {
    "hidden": true,
    "scrolled": true
   },
   "outputs": [],
   "source": [
    "import numpy as np\n",
    "np.argmax()"
   ]
  },
  {
   "cell_type": "markdown",
   "metadata": {
    "heading_collapsed": true,
    "hidden": true
   },
   "source": [
    "## Further Reading"
   ]
  },
  {
   "cell_type": "markdown",
   "metadata": {
    "hidden": true
   },
   "source": [
    "If you'd like to learn more about Jupyter Notebooks before diving into the rest of the tutorials, the following links are recommended:\n",
    "\n",
    "* [Jupyter Notebook documentation](https://jupyter-notebook.readthedocs.io/en/stable/)\n",
    "* [A gallery of interesting Jupyter Notebooks](https://github.com/jupyter/jupyter/wiki/A-gallery-of-interesting-Jupyter-Notebooks)"
   ]
  },
  {
   "cell_type": "markdown",
   "metadata": {
    "heading_collapsed": true
   },
   "source": [
    "# Introduction to Python"
   ]
  },
  {
   "cell_type": "markdown",
   "metadata": {
    "hidden": true
   },
   "source": [
    "This section will walk you through how to program in python and other relevant libraries for this course.\n",
    "\n",
    "<span class=\"burk\">Warning: Python is indentation sensitive to define different scopes. Be cautious when adding extra spaces / indentations (unless it's a comment, which does not matter).</span>"
   ]
  },
  {
   "cell_type": "markdown",
   "metadata": {
    "heading_collapsed": true,
    "hidden": true
   },
   "source": [
    "## The Very Basics"
   ]
  },
  {
   "cell_type": "markdown",
   "metadata": {
    "heading_collapsed": true,
    "hidden": true
   },
   "source": [
    "### Print, Strings, Comments"
   ]
  },
  {
   "cell_type": "markdown",
   "metadata": {
    "hidden": true
   },
   "source": [
    "Use the __print()__ function to print strings, numbers, lists, arrays, ...\n",
    "\n",
    "Note: strings are indicated by using either single quotes `' '` or double quotes `\" \"`. Just make sure to be consistent."
   ]
  },
  {
   "cell_type": "code",
   "execution_count": null,
   "metadata": {
    "hidden": true
   },
   "outputs": [],
   "source": [
    "print('Hello World!')\n",
    "\n",
    "print(\"This is also a string\")"
   ]
  },
  {
   "cell_type": "markdown",
   "metadata": {
    "hidden": true
   },
   "source": [
    "Use '#' for comments. Anything in after the '#' will be skipped during execution."
   ]
  },
  {
   "cell_type": "code",
   "execution_count": null,
   "metadata": {
    "hidden": true
   },
   "outputs": [],
   "source": [
    "# This is an example comment\n",
    "\n",
    "# This is another comment\n",
    "\n",
    "print(\"some text\")"
   ]
  },
  {
   "cell_type": "markdown",
   "metadata": {
    "hidden": true
   },
   "source": [
    "Use `'''  '''` for multilines comments. Anything in between the `'''` will be skipped during execution."
   ]
  },
  {
   "cell_type": "code",
   "execution_count": null,
   "metadata": {
    "hidden": true
   },
   "outputs": [],
   "source": [
    "''' This is an\n",
    "example\n",
    "multilines\n",
    "comment. '''\n",
    "\n",
    "print(\"some text\")"
   ]
  },
  {
   "cell_type": "markdown",
   "metadata": {
    "hidden": true
   },
   "source": [
    "Replaces `{x}` with the value stored by `x`"
   ]
  },
  {
   "cell_type": "code",
   "execution_count": null,
   "metadata": {
    "hidden": true
   },
   "outputs": [],
   "source": [
    "x = 3 + 7\n",
    "print(f\"3 + 7 = {x}\")"
   ]
  },
  {
   "cell_type": "markdown",
   "metadata": {
    "hidden": true
   },
   "source": [
    "Concatenate strings with `+`\n",
    "\n",
    "For `print()` functions you can just seperate them with commas (`,`)"
   ]
  },
  {
   "cell_type": "code",
   "execution_count": null,
   "metadata": {
    "hidden": true
   },
   "outputs": [],
   "source": [
    "s1 = \"Hello\"\n",
    "s2 = \"World!\"\n",
    "\n",
    "print(s1 + s2 + \"Again\")\n",
    "\n",
    "print(s1, s2, \"Again 2\") # this add spaces in between by default"
   ]
  },
  {
   "cell_type": "markdown",
   "metadata": {
    "heading_collapsed": true,
    "hidden": true
   },
   "source": [
    "### Variables & Numeric Data Types"
   ]
  },
  {
   "cell_type": "markdown",
   "metadata": {
    "heading_collapsed": true,
    "hidden": true
   },
   "source": [
    "#### Variables:\n",
    "\n",
    "Variable names can only consist of: letters (a-z, A-Z), digits (0-9), and underscore (-). But cannot start with a digit.\n",
    "\n",
    "Python has NO command for declaring variables.\n",
    "\n",
    "A variable is created the moment you first assign a value to it.\n",
    "\n",
    "Variables do not need to be declared with any particular type, and can even change type after they have been set."
   ]
  },
  {
   "cell_type": "code",
   "execution_count": null,
   "metadata": {
    "hidden": true,
    "scrolled": true
   },
   "outputs": [],
   "source": [
    "print(\"Integers: \")\n",
    "x = 72\n",
    "print(x)\n",
    "\n",
    "var = 7//2    # // is integer division\n",
    "print(var)\n",
    "\n",
    "var2 = int(45.7)\n",
    "print(var2)"
   ]
  },
  {
   "cell_type": "code",
   "execution_count": null,
   "metadata": {
    "hidden": true
   },
   "outputs": [],
   "source": [
    "print(\"Floats: \")\n",
    "x = 5.01234567890123456789\n",
    "print(x)\n",
    "\n",
    "var = 7/2    # / is float division\n",
    "print(var)\n",
    "\n",
    "var2 = float(45.748239)\n",
    "print(f\"{var2:.3f}\") # prints 3 decimals\n",
    "print(f\"{var2:.5f}\") # prints 5 decimals"
   ]
  },
  {
   "cell_type": "markdown",
   "metadata": {
    "heading_collapsed": true,
    "hidden": true
   },
   "source": [
    "#### Numeric Data Types: Binary & Hex\n",
    "\n",
    "Python has native support for binary and hex conversions:\n",
    "\n",
    "* Built-in functions __bin()__ and __hex()__ for converting integers to binary/hex\n",
    "\n",
    "* Python interprets raw hex as integers (i.e., 0xFF = 255)\n",
    "\n",
    "* Integer class can convert directly from binary and hex, by providing the string of binary/hex and the corresponding base (2 for binary, 16 for hex)"
   ]
  },
  {
   "cell_type": "code",
   "execution_count": null,
   "metadata": {
    "hidden": true
   },
   "outputs": [],
   "source": [
    "# HEX String\n",
    "hexstr = \"0xFF\"\n",
    "print(int(hexstr, 16))"
   ]
  },
  {
   "cell_type": "code",
   "execution_count": null,
   "metadata": {
    "hidden": true
   },
   "outputs": [],
   "source": [
    "# Binary String\n",
    "binstr = \"00001111\"\n",
    "print(int(binstr, 2))"
   ]
  },
  {
   "cell_type": "code",
   "execution_count": null,
   "metadata": {
    "hidden": true
   },
   "outputs": [],
   "source": [
    "# Integer given in HEX\n",
    "hexint = 0xFF\n",
    "print(hexint, type(hexint))\n",
    "\n",
    "# Convert int to binary string\n",
    "print(bin(hexint))\n",
    "\n",
    "# Convert int to HEX string\n",
    "print(hex(hexint))"
   ]
  },
  {
   "cell_type": "markdown",
   "metadata": {
    "heading_collapsed": true,
    "hidden": true
   },
   "source": [
    "#### Numeric Data Types: Bytes\n",
    "\n",
    "When working with hardware, you will often need to manipulate raw binary/bytes and hex formats:\n",
    "\n",
    "* Example: you will read/write data to an FPGA in this course, the data must be in bytes, but how do we do that?\n",
    "\n",
    "* Integer has __to_bytes()__ and __from_bytes()__"
   ]
  },
  {
   "cell_type": "code",
   "execution_count": null,
   "metadata": {
    "hidden": true
   },
   "outputs": [],
   "source": [
    "# integer to bytearray\n",
    "integer   = 4039809192 # int value\n",
    "num_bytes = 4          # number of bytes to generate\n",
    "\n",
    "# converts the int value to a byte array of size 4 Bytes in Big Endian Order\n",
    "byteArr   = integer.to_bytes(num_bytes, byteorder='big')\n",
    "\n",
    "print(byteArr)\n",
    "\n",
    "print(\"Length:\", len(byteArr), \"Bytes\")"
   ]
  },
  {
   "cell_type": "code",
   "execution_count": null,
   "metadata": {
    "hidden": true
   },
   "outputs": [],
   "source": [
    "# bytearray to integer\n",
    "x = int.from_bytes(byteArr, byteorder='big')\n",
    "\n",
    "print(x)"
   ]
  },
  {
   "cell_type": "markdown",
   "metadata": {
    "hidden": true
   },
   "source": [
    "Bytearray built-in data type:\n",
    "\n",
    "* Has __fromhex(), hex()__\n",
    "\n",
    "* Operates similarly to lists, with __append()__ and __extend()__ functions\n",
    "\n",
    "* Don’t try to convert from int to bytearray simply by __bytearray(255)__, this will create 255 bytes of 0s!"
   ]
  },
  {
   "cell_type": "code",
   "execution_count": null,
   "metadata": {
    "hidden": true
   },
   "outputs": [],
   "source": [
    "# hex to bytearray\n",
    "byteArr = bytearray.fromhex(\"F0CA98\")\n",
    "\n",
    "print(byteArr)\n",
    "\n",
    "print(\"Length:\", len(byteArr), \"Bytes\")"
   ]
  },
  {
   "cell_type": "code",
   "execution_count": null,
   "metadata": {
    "hidden": true
   },
   "outputs": [],
   "source": [
    "# bytearray to hex\n",
    "hexstr = byteArr.hex()\n",
    "\n",
    "print(hexstr, type(hexstr))"
   ]
  },
  {
   "cell_type": "code",
   "execution_count": null,
   "metadata": {
    "hidden": true
   },
   "outputs": [],
   "source": [
    "# append int to bytearray\n",
    "\n",
    "print(\"Before:\")\n",
    "print(byteArr)\n",
    "print(\"Length:\", len(byteArr), \"Bytes\")\n",
    "\n",
    "# append\n",
    "byteArr.append(168) # note: it can only append bytes, i.e., int 0 - 255\n",
    "\n",
    "print(\"After:\")\n",
    "print(byteArr)\n",
    "print(\"Length:\", len(byteArr), \"Bytes\")"
   ]
  },
  {
   "cell_type": "code",
   "execution_count": null,
   "metadata": {
    "hidden": true
   },
   "outputs": [],
   "source": [
    "# convert bytearray to list of integers\n",
    "int_list = list(byteArr)\n",
    "\n",
    "print(int_list)\n",
    "\n",
    "print(\"Length:\", len(int_list), \"Integers\")"
   ]
  },
  {
   "cell_type": "markdown",
   "metadata": {
    "heading_collapsed": true,
    "hidden": true
   },
   "source": [
    "#### Numeric Data Types: Booleans\n",
    "\n",
    "Boolean (`bool`) built-in data type\n",
    "\n",
    "* Only accepts 2 possible values: `True` / `False`\n",
    "\n",
    "* Commonly used as flags for `if/else` and __loops__ conditions\n",
    "\n",
    "* Numeric Equivalence: __False = 0__ and __True = 1__  (or any non-zero value)"
   ]
  },
  {
   "cell_type": "code",
   "execution_count": null,
   "metadata": {
    "hidden": true
   },
   "outputs": [],
   "source": [
    "x = True\n",
    "print(x)\n",
    "\n",
    "if x:\n",
    "    print(\"IF #1\")\n",
    "else:\n",
    "    print(\"ELSE #1\")"
   ]
  },
  {
   "cell_type": "code",
   "execution_count": null,
   "metadata": {
    "hidden": true
   },
   "outputs": [],
   "source": [
    "x = False\n",
    "print(x)\n",
    "\n",
    "if x:\n",
    "    print(\"IF #2\")\n",
    "else:\n",
    "    print(\"ELSE #2\")"
   ]
  },
  {
   "cell_type": "code",
   "execution_count": null,
   "metadata": {
    "hidden": true
   },
   "outputs": [],
   "source": [
    "if (7): # 7 == True\n",
    "    print(x + True + 3) # = 0+1+3 = 4\n",
    "\n",
    "print(\"\\nType of x:\", type(x))"
   ]
  },
  {
   "cell_type": "markdown",
   "metadata": {
    "heading_collapsed": true,
    "hidden": true
   },
   "source": [
    "### Common Operators"
   ]
  },
  {
   "cell_type": "markdown",
   "metadata": {
    "hidden": true
   },
   "source": [
    "Here is a list of common python operators: <span class=\"mark\">https://www.w3schools.com/python/python_operators.asp</span>\n",
    "\n",
    "Here is a summary:\n",
    "\n",
    "<img src=\"Figures/py_common_operators.png\" alt=\"Common Python Operators\" width=\"600\"/>\n",
    "\n",
    "\n",
    "Notice how many useful operators exists in the standard library compare to C or C++\n",
    "\n",
    "Try some out!"
   ]
  },
  {
   "cell_type": "code",
   "execution_count": null,
   "metadata": {
    "hidden": true
   },
   "outputs": [],
   "source": [
    "# Some examples:\n",
    "\n",
    "print(\"2 ** 4 =\", 2 ** 4)\n",
    "\n",
    "print(\"16 // 3 =\", 16 // 3)\n",
    "\n",
    "print(\"16 / 3 =\", 16 / 3)\n",
    "\n",
    "print(\"(8 > 4) =\", 8 > 4)\n",
    "\n",
    "print(\"(7 <= 3) =\", 7 <= 3)\n",
    "\n",
    "print(\"True and False =\", True and False)\n",
    "\n",
    "print(\"True or False =\", True or False)\n",
    "\n",
    "x = 5\n",
    "x += 3\n",
    "print(\"5 + 3 =\", x)\n",
    "\n",
    "# try more yourself!!"
   ]
  },
  {
   "cell_type": "markdown",
   "metadata": {
    "heading_collapsed": true,
    "hidden": true
   },
   "source": [
    "#### Binary Bitwise Operations\n",
    "Python supports binary bitwise operations on integers. Here are a few common examples:\n",
    "<img src=\"Figures/py_binary_bitwise.png\" alt=\"Binary Bitwise Operators\" width=\"300\"/>\n",
    "\n",
    "Try them out!"
   ]
  },
  {
   "cell_type": "code",
   "execution_count": null,
   "metadata": {
    "hidden": true,
    "scrolled": true
   },
   "outputs": [],
   "source": [
    "# Some examples:\n",
    "\n",
    "x = 0xAA\n",
    "y = 0xC0\n",
    "print(\"x =\", x, \"(int)\", bin(x), \"(bin)\")\n",
    "print(\"y =\", y, \"(int)\", bin(y), \"(bin)\")\n",
    "\n",
    "print(\"\\nExample Binary Bitwise Operations:\\n\")\n",
    "\n",
    "print(\"x | y =\", x|y, \"(int)\", bin(x|y), \"(bin)\")\n",
    "\n",
    "print(\"x ^ y =\", x^y, \"(int)\", bin(x^y), \"(bin)\")\n",
    "\n",
    "print(\"x & y =\", x&y, \"(int)\", bin(x&y), \"(bin)\")\n",
    "\n",
    "print(\"x << 8 =\", x<<8, \"(int)\", bin(x<<8), \"(bin)\")\n",
    "\n",
    "print(\"x >> 3 =\", x>>3, \"(int)\", bin(x>>3), \"(bin)\")\n",
    "\n",
    "print(\"~x =\", ~x, \"(int)\", bin(~x), \"(bin)\")"
   ]
  },
  {
   "cell_type": "markdown",
   "metadata": {
    "hidden": true
   },
   "source": [
    "Notice that ~x does not seem to do what we expect: invert the bits\n",
    "\n",
    "It does invert the bits, but stores it as a 2's complement integer and then it just prints that negative integer value.\n",
    "\n",
    "To fix this and actually see the inverted bits, we can just __mask__ the output to an specific binary size. below are some examples:"
   ]
  },
  {
   "cell_type": "code",
   "execution_count": null,
   "metadata": {
    "hidden": true
   },
   "outputs": [],
   "source": [
    "x     = 0xAA\n",
    "x_inv = ~x\n",
    "\n",
    "print(\"Without maxking:\")\n",
    "print(\"x =\", bin(x), \"~x =\", bin(x_inv))\n",
    "\n",
    "print(\"\\nWith masking to 8 bits:\")\n",
    "x_inv_masked = x_inv & 0b11111111\n",
    "print(\"x =\", bin(x), \"~x =\", bin(x_inv_masked))\n",
    "\n",
    "\n",
    "print(\"\\nWith masking to 12 bits:\")\n",
    "x_inv_masked = x_inv & 0b111111111111\n",
    "print(\"x =\", bin(x), \"~x =\", bin(x_inv_masked))\n",
    "\n",
    "print(\"\\nWith masking to 16 bits:\")\n",
    "x_inv_masked = x_inv & 0b1111111111111111\n",
    "print(\"x =\", bin(x), \"~x =\", bin(x_inv_masked))"
   ]
  },
  {
   "cell_type": "markdown",
   "metadata": {
    "hidden": true
   },
   "source": [
    "Notice that the number of 1's in the binary number after the `&` represents the size of the mask. This operation is basically saying: keep the `n` LSB intact and remove the rest of the bits; where `n` is the size of the mask.\n",
    "\n",
    "To generalize, you can use this function:"
   ]
  },
  {
   "cell_type": "code",
   "execution_count": null,
   "metadata": {
    "hidden": true
   },
   "outputs": [],
   "source": [
    "def masked_invert(x, bits):\n",
    "    mask = int(\"1\"*bits, 2)\n",
    "    x_inv_masked = bin(~x & mask)\n",
    "    return x_inv_masked\n",
    "\n",
    "print(\"Original:\", bin(0xAA))\n",
    "print(\"Invert w/mask size 8:\",  masked_invert(0xAA, 8))\n",
    "print(\"Invert w/mask size 12:\", masked_invert(0xAA, 12))\n",
    "print(\"Invert w/mask size 16:\", masked_invert(0xAA, 16))\n",
    "\n",
    "# Note: this only changes the print output to make it look \"nice\". Masking is not needed between operation."
   ]
  },
  {
   "cell_type": "markdown",
   "metadata": {
    "heading_collapsed": true,
    "hidden": true
   },
   "source": [
    "## Data Structures (Containers)"
   ]
  },
  {
   "cell_type": "markdown",
   "metadata": {
    "heading_collapsed": true,
    "hidden": true
   },
   "source": [
    "### Lists"
   ]
  },
  {
   "cell_type": "markdown",
   "metadata": {
    "hidden": true
   },
   "source": [
    "Most basic container is a list:\n",
    "\n",
    "* Can be declared by calling `list()`, or by placing elements between square brackets: [0,1,2,3]\n",
    "* Elements are __append__ed at the end, or __insert__ed at an index\n",
    "* Mutable, meaning contents can be modified\n",
    "* `len(lst)` returns __len__gth of the list\n",
    "    * Example: len([0,1,2,3]) = 4\n",
    "    \n",
    "Some examples:"
   ]
  },
  {
   "cell_type": "code",
   "execution_count": null,
   "metadata": {
    "hidden": true
   },
   "outputs": [],
   "source": [
    "# Empty Lists:\n",
    "lst1 = []\n",
    "lst2 = list()\n",
    "\n",
    "print(lst1)\n",
    "print(lst2)"
   ]
  },
  {
   "cell_type": "code",
   "execution_count": null,
   "metadata": {
    "hidden": true
   },
   "outputs": [],
   "source": [
    "# Init List:\n",
    "lst = [0, 1, 2, 3]\n",
    "\n",
    "print(lst)"
   ]
  },
  {
   "cell_type": "code",
   "execution_count": null,
   "metadata": {
    "hidden": true
   },
   "outputs": [],
   "source": [
    "# Append to list:\n",
    "lst.append(\"a\")\n",
    "lst.append(\"tom\")\n",
    "\n",
    "print(lst)\n",
    "\n",
    "# Notice: python list elements do not have to be the same data type!"
   ]
  },
  {
   "cell_type": "code",
   "execution_count": null,
   "metadata": {
    "hidden": true
   },
   "outputs": [],
   "source": [
    "# Insert to list:\n",
    "index = 2\n",
    "lst.insert(index, 777)\n",
    "\n",
    "print(lst)\n",
    "\n",
    "index = 0 # begining of list\n",
    "lst.insert(index, \"begin\")\n",
    "\n",
    "print(lst)"
   ]
  },
  {
   "cell_type": "code",
   "execution_count": null,
   "metadata": {
    "hidden": true
   },
   "outputs": [],
   "source": [
    "# Append a list a list:\n",
    "lst.append([6, 7, 8, 9])\n",
    "print(lst)"
   ]
  },
  {
   "cell_type": "code",
   "execution_count": null,
   "metadata": {
    "hidden": true
   },
   "outputs": [],
   "source": [
    "# Sort a list:\n",
    "lst = ['c', 'a', 'b']\n",
    "lst.sort()\n",
    "print(lst)"
   ]
  },
  {
   "cell_type": "code",
   "execution_count": null,
   "metadata": {
    "hidden": true,
    "scrolled": true
   },
   "outputs": [],
   "source": [
    "# Pop last element from a list:\n",
    "lst.pop()\n",
    "print(lst)"
   ]
  },
  {
   "cell_type": "code",
   "execution_count": null,
   "metadata": {
    "hidden": true
   },
   "outputs": [],
   "source": [
    "# Pop some element at index i from a list:\n",
    "lst = ['a', 'b', 'c', 'd', 'e']\n",
    "print(lst)\n",
    "\n",
    "index = 2\n",
    "lst.pop(index)\n",
    "print(lst)"
   ]
  },
  {
   "cell_type": "markdown",
   "metadata": {
    "heading_collapsed": true,
    "hidden": true
   },
   "source": [
    "#### Indexing lists is easy:\n",
    "\n",
    "`lst[start:end:step]`\n",
    "* start is inclusive [default = ]\n",
    "* end is exclusive [default = ]\n",
    "* step is how many indices to move by when grabbing elements. [default = 1]\n",
    "\n",
    "`lst[start:]`\n",
    "* take every element beginning from index start\n",
    "\n",
    "Some examples:"
   ]
  },
  {
   "cell_type": "code",
   "execution_count": null,
   "metadata": {
    "hidden": true,
    "scrolled": true
   },
   "outputs": [],
   "source": [
    "lst = ['e0', 'e1', 'e2', 'e3', 'e4', 'e5', 'e6', 'e7', 'e8', 'e9', 'e10']\n",
    "\n",
    "print(\"lst[4]      =\",  lst[4])\n",
    "print(\"lst[-1]     =\",  lst[-1])     # -1 = last element\n",
    "print(\"lst[-3]     =\",  lst[-3])     # = lst[11-3] = lst[8]\n",
    "\n",
    "print()\n",
    "\n",
    "print(\"lst[1:10:3] =\",  lst[1:10:3]) # element at index end=10 is excluded\n",
    "\n",
    "print()\n",
    "\n",
    "print(\"lst[-7:-2]  =\",  lst[-7:-2])\n",
    "print(\"lst[4:9]    =\",  lst[4:9])    # the same\n",
    "\n",
    "print()\n",
    "\n",
    "print(\"lst[6:]     =\",  lst[6:])\n",
    "print(\"lst[6:11:1] =\",  lst[6:11:1]) # the same\n",
    "\n",
    "print(\"lst[6:-1:1] =\",  lst[6:-1:1]) # no the same\n",
    "print(\"lst[6:10:1] =\",  lst[6:-1:1]) # same as lst[6:-1:1]\n",
    "\n",
    "print()\n",
    "\n",
    "print(\"lst[:6]     =\",  lst[:6])\n",
    "print(\"lst[0:6:1]  =\",  lst[0:6:1])\n",
    "\n",
    "print()\n",
    "\n",
    "print(\"lst[7:8]    =\",  lst[7:8])    # list with 1 element\n",
    "print(\"lst[7]      =\",  lst[7])      # the element (not in a list)\n",
    "\n",
    "print()\n",
    "\n",
    "print(\"lst[5:5]    =\",  lst[5:5])    # end=5 is excluded\n",
    "print(\"lst[6:3]    =\",  lst[6:3])    # there is nothing with index ≥ 6 AND < 3\n",
    "\n",
    "print()\n",
    "\n",
    "print(\"lst[:]      =\",  lst[:])      # ALL elements in the list\n",
    "print(\"lst[0:11:1] =\",  lst[0:11:1]) # the same\n",
    "print(\"lst         =\",  lst)         # the same"
   ]
  },
  {
   "cell_type": "markdown",
   "metadata": {
    "heading_collapsed": true,
    "hidden": true
   },
   "source": [
    "### Dictionaries"
   ]
  },
  {
   "cell_type": "markdown",
   "metadata": {
    "hidden": true
   },
   "source": [
    "Dictionaries for storing __key:value__ pairs:\n",
    "* Unordered, values are referenced by keys\n",
    "* Created by calling `dict()` or placing __key:value__ pairs around curly braces: {‘a’: 0, ‘b’: 1, …}\n",
    "* Indexed like lists, but with a key element\n",
    "\n",
    "Some examples:"
   ]
  },
  {
   "cell_type": "code",
   "execution_count": null,
   "metadata": {
    "hidden": true
   },
   "outputs": [],
   "source": [
    "# Initialize a dictionary:\n",
    "dct = {'a': 0, 'b': 1, 'c': 2}\n",
    "\n",
    "print(dct)\n",
    "print(type(dct))"
   ]
  },
  {
   "cell_type": "code",
   "execution_count": null,
   "metadata": {
    "hidden": true
   },
   "outputs": [],
   "source": [
    "# Get the value in a dictionary for a given key:\n",
    "print(\"Key 'a' =\", dct['a'])\n",
    "print(\"Key 'b' =\", dct['b'])\n",
    "print(\"Key 'c' =\", dct['c'])"
   ]
  },
  {
   "cell_type": "code",
   "execution_count": null,
   "metadata": {
    "hidden": true
   },
   "outputs": [],
   "source": [
    "# Get the keys in a dictionary:\n",
    "dct_keys = dct.keys()\n",
    "print(dct_keys)"
   ]
  },
  {
   "cell_type": "code",
   "execution_count": null,
   "metadata": {
    "hidden": true
   },
   "outputs": [],
   "source": [
    "# Get the values in a dictionary:\n",
    "dct_values = dct.values()\n",
    "print(dct_values)"
   ]
  },
  {
   "cell_type": "code",
   "execution_count": null,
   "metadata": {
    "hidden": true
   },
   "outputs": [],
   "source": [
    "# Get a list of tuples of (key, value) pair from a dictionary:\n",
    "dct_items = dct.items()\n",
    "print(dct_items)"
   ]
  },
  {
   "cell_type": "markdown",
   "metadata": {
    "heading_collapsed": true,
    "hidden": true
   },
   "source": [
    "### Sets"
   ]
  },
  {
   "cell_type": "markdown",
   "metadata": {
    "hidden": true
   },
   "source": [
    "Sets for container of __unique__ elements:\n",
    "* Unordered, all elements are unique (i.e., only keeps 1 instance of repeated elements)\n",
    "    * Example: {3, 2, 3, 1} = {1, 2, 3} = {3, 1, 2} = ...\n",
    "* Created by calling `set()` or placing elements around curly braces: {0, 1, 2, 143, … }\n",
    "* Can use set arithmetic (i.e., unions |, intersections &)\n",
    "\n",
    "Some examples:"
   ]
  },
  {
   "cell_type": "code",
   "execution_count": null,
   "metadata": {
    "hidden": true
   },
   "outputs": [],
   "source": [
    "# initialize sets:\n",
    "s1 = {'a', 'b', 'c'}\n",
    "s2 = {'c', 'd', 'e'}\n",
    "\n",
    "print(\"s1 =\", s1, type(s1))\n",
    "print(\"s2 =\", s2, type(s2))"
   ]
  },
  {
   "cell_type": "code",
   "execution_count": null,
   "metadata": {
    "hidden": true
   },
   "outputs": [],
   "source": [
    "# Sets Union: combine elements\n",
    "print(\"s1 | s2 =\", s1 | s2)\n",
    "\n",
    "# Sets Intersept: gets common elements\n",
    "print(\"s1 & s2 =\", s1 & s2)\n",
    "\n",
    "# Set Difference: get all elements in s1 that are not in s2\n",
    "print(\"s1 - s2 =\", s1 - s2)\n",
    "\n",
    "# Set Symetric Difference: get all elements except those in the intersept\n",
    "print(\"s1 ^ s2 =\", s1 ^ s2)"
   ]
  },
  {
   "cell_type": "markdown",
   "metadata": {
    "heading_collapsed": true,
    "hidden": true
   },
   "source": [
    "### Tuples"
   ]
  },
  {
   "cell_type": "markdown",
   "metadata": {
    "hidden": true
   },
   "source": [
    "Tuples for __immutable__ lists (same type of indexing):\n",
    "* Created by calling tuple(), or by placing elements between parentheses: (0, 10, 20, … )\n",
    "* Use if the elements should not be modified\n",
    "* Good for grouping objects together\n",
    "\n",
    "Some examples:"
   ]
  },
  {
   "cell_type": "code",
   "execution_count": null,
   "metadata": {
    "hidden": true
   },
   "outputs": [],
   "source": [
    "# initialize tuples:\n",
    "tpl = (\"car\", \"BMW\", \"white\", 40590)\n",
    "\n",
    "print(tpl)\n",
    "print(type(tpl))"
   ]
  },
  {
   "cell_type": "code",
   "execution_count": null,
   "metadata": {
    "hidden": true,
    "scrolled": true
   },
   "outputs": [],
   "source": [
    "# fancy way to extract elements:\n",
    "item, brand, color, price = tpl\n",
    "\n",
    "print(\"item       =\", item)\n",
    "print(\"item brand =\", brand)\n",
    "print(\"item color =\", color)\n",
    "print(\"item price =\", price)"
   ]
  },
  {
   "cell_type": "code",
   "execution_count": null,
   "metadata": {
    "hidden": true
   },
   "outputs": [],
   "source": [
    "# also you can extra elements with indexes as lists:\n",
    "print(tpl[3])"
   ]
  },
  {
   "cell_type": "markdown",
   "metadata": {
    "heading_collapsed": true,
    "hidden": true
   },
   "source": [
    "## Loops"
   ]
  },
  {
   "cell_type": "markdown",
   "metadata": {
    "heading_collapsed": true,
    "hidden": true
   },
   "source": [
    "### For Loops"
   ]
  },
  {
   "cell_type": "markdown",
   "metadata": {
    "hidden": true
   },
   "source": [
    "For loops always involve looping over an __iterable__:\n",
    "* Iterable is a __container__, something that can be iterated over\n",
    "* Structure: `for item in container:`\n",
    "* Can use `enumerate()` to iterate over a list with an index variable\n",
    "* Can use `zip()` to iterate over multiple lists\n",
    "\n",
    "<span class=\"burk\">Use indentations to define the scope. (NOT curly-braces like C/C++)</span>\n",
    "\n",
    "Some examples:"
   ]
  },
  {
   "cell_type": "code",
   "execution_count": null,
   "metadata": {
    "hidden": true
   },
   "outputs": [],
   "source": [
    "# iterating over a list\n",
    "letters = ['a', 'b', 'c', 'd']\n",
    "for x in letters:\n",
    "    print(\"Letter:\", x)"
   ]
  },
  {
   "cell_type": "code",
   "execution_count": null,
   "metadata": {
    "hidden": true
   },
   "outputs": [],
   "source": [
    "# iterating over a list & extracting their respective indexes\n",
    "letters = ['a', 'b', 'c', 'd']\n",
    "for i, x in enumerate(letters):\n",
    "    print(\"Index:\", i, \"Letter:\", x)"
   ]
  },
  {
   "cell_type": "code",
   "execution_count": null,
   "metadata": {
    "hidden": true
   },
   "outputs": [],
   "source": [
    "# range(n) function creates an iterable of int from 0 to n-1\n",
    "for i in range(4):\n",
    "    print(i)"
   ]
  },
  {
   "cell_type": "code",
   "execution_count": null,
   "metadata": {
    "hidden": true
   },
   "outputs": [],
   "source": [
    "# This is how to iterate over multiple lists \n",
    "lst1 = [3, 4, 5]\n",
    "lst2 = [9, 16, 25]\n",
    "\n",
    "for i, j in zip(lst1, lst2):\n",
    "    print(f\"{i}^2 = {j}\")"
   ]
  },
  {
   "cell_type": "markdown",
   "metadata": {
    "heading_collapsed": true,
    "hidden": true
   },
   "source": [
    "### While Loops"
   ]
  },
  {
   "cell_type": "markdown",
   "metadata": {
    "hidden": true
   },
   "source": [
    "While loops continue until terminal condition:\n",
    "* Structure: `while condition:`\n",
    "* Useful when waiting on data from another system/task, or if the loop doesn’t depend on a container \n",
    "\n",
    "<span class=\"burk\">Use indentations to define the scope. (NOT curly-braces like C/C++)</span>\n",
    "\n",
    "Some example:"
   ]
  },
  {
   "cell_type": "code",
   "execution_count": null,
   "metadata": {
    "hidden": true
   },
   "outputs": [],
   "source": [
    "n = 10\n",
    "acc = 0\n",
    "\n",
    "while n > 0:\n",
    "    acc += n\n",
    "    n -= 1\n",
    "    print(f\"n = {n}, acc = {acc}\")\n",
    "\n",
    "print(f\"Result = {acc}\")"
   ]
  },
  {
   "cell_type": "markdown",
   "metadata": {
    "heading_collapsed": true,
    "hidden": true
   },
   "source": [
    "## Functions"
   ]
  },
  {
   "cell_type": "markdown",
   "metadata": {
    "heading_collapsed": true,
    "hidden": true
   },
   "source": [
    "### Python Built-In Functions"
   ]
  },
  {
   "cell_type": "markdown",
   "metadata": {
    "hidden": true
   },
   "source": [
    "Python has many built-in functions and types, follow link for more details on each function and how to use them\n",
    "\n",
    "* Simple math functions: abs(), max(), min(), pow(), sum()\n",
    "\n",
    "* Container types: dict(), list(), set(), tuple()\n",
    "\n",
    "* Common Data types: bytearray(), bytes(), chr(), float(), int(), object(), str()\n",
    "\n",
    "* Length function: len() works for all container types and strings.\n",
    "    * len([3,7,2]) = 3\n",
    "    * len(\"hello world\") = 11\n",
    "    \n",
    "Find more here: https://docs.python.org/3/library/functions.html\n",
    "\n",
    "Try a few yourself below:"
   ]
  },
  {
   "cell_type": "code",
   "execution_count": null,
   "metadata": {
    "hidden": true
   },
   "outputs": [],
   "source": [
    "# Examples:\n",
    "\n",
    "print(\"abs(-57) =\", abs(-57))\n",
    "\n",
    "print(\"min([56,24,97]) =\", min([56,24,97]))"
   ]
  },
  {
   "cell_type": "markdown",
   "metadata": {
    "heading_collapsed": true,
    "hidden": true
   },
   "source": [
    "### User-Defined Functions"
   ]
  },
  {
   "cell_type": "markdown",
   "metadata": {
    "hidden": true
   },
   "source": [
    "Functions are useful for splitting up complex operations. You can create some yourself:\n",
    "\n",
    "* Structure: `def functionName(arg1, arg2, … ):`\n",
    "* No need to specify the return type nor arguments type\n",
    "\n",
    "\n",
    "<span class=\"burk\">Use indentations to define the scope. (NOT curly-braces like C/C++)</span>\n",
    "\n",
    "Read more about python functions: https://www.w3schools.com/python/python_functions.asp \n",
    "\n",
    "Some examples:"
   ]
  },
  {
   "cell_type": "code",
   "execution_count": null,
   "metadata": {
    "hidden": true
   },
   "outputs": [],
   "source": [
    "def square_number(num):\n",
    "    return num**2\n",
    "\n",
    "num = 10\n",
    "squaredNum = square_number(num)\n",
    "\n",
    "print(squaredNum)"
   ]
  },
  {
   "cell_type": "code",
   "execution_count": null,
   "metadata": {
    "hidden": true
   },
   "outputs": [],
   "source": [
    "def square_list(lst):\n",
    "    squared = [i**2 for i in lst]\n",
    "    return squared\n",
    "\n",
    "lst = [1,2,3,4,5]\n",
    "squaredLst = square_list(lst)\n",
    "\n",
    "print(squaredLst)"
   ]
  },
  {
   "cell_type": "markdown",
   "metadata": {
    "heading_collapsed": true,
    "hidden": true
   },
   "source": [
    "## Libraries"
   ]
  },
  {
   "cell_type": "markdown",
   "metadata": {
    "hidden": true
   },
   "source": [
    "Python has a rich ecosystem of open-source libraries! Here are some of the most popular ones for:\n",
    "* __Data processing:__ <span class=\"mark\">NumPy</span>, <span class=\"mark\">SciPy</span>, Pandas\n",
    "* __Network/Graph processing:__ NetworkX\n",
    "* __Data visualization/plotting:__ <span class=\"mark\">Matplotlib</span>, Bokeh, Seaborn\n",
    "* __Machine learning:__ <span class=\"mark\">Tensorflow</span>, Pytorch, Scikit-learn\n",
    "* __Serial Communication:__ <span class=\"mark\">PySerial</span>\n",
    "\n",
    "*we will use those in yellow in this course. This tutorial will go over the most common ones.\n",
    "\n",
    "<img src=\"Figures/py_libraries.png\" alt=\"Python Libraries\" width=\"400\"/>"
   ]
  },
  {
   "cell_type": "markdown",
   "metadata": {
    "hidden": true
   },
   "source": [
    "All the necessary libraries are already pre-installed in this VM for you. We advice not to add more on this VM due to limited space given to the VM.\n",
    "\n",
    "For your information only: to add library packages use `pip install package` in the bash terminal. Replace \"package\" with the name of the library you want to install. Example to install NumPy: `pip isntall numpy`.\n",
    "\n",
    "* Note: __pip__ command syntax differs depending on your OS. The PHS-VM uses Linux."
   ]
  },
  {
   "cell_type": "markdown",
   "metadata": {
    "heading_collapsed": true,
    "hidden": true
   },
   "source": [
    "### Importing & Using Libraries"
   ]
  },
  {
   "cell_type": "markdown",
   "metadata": {
    "hidden": true
   },
   "source": [
    "Libraries are imported simply by `import package` or `import package as different_name`:\n",
    "* e.g., Numpy is typically imported by `import numpy as np`\n",
    "* Package functions/modules accessed by the dot operator – i.e., pkg.mod.func(), pkg.func()\n",
    "\n",
    "Example:"
   ]
  },
  {
   "cell_type": "code",
   "execution_count": null,
   "metadata": {
    "hidden": true
   },
   "outputs": [],
   "source": [
    "# importing\n",
    "import numpy as np\n",
    "\n",
    "lst = [1,2,3,4,5,6,7]\n",
    "\n",
    "# use a function from the imported library\n",
    "print(np.mean(lst))"
   ]
  },
  {
   "cell_type": "markdown",
   "metadata": {
    "hidden": true
   },
   "source": [
    "Some libraries are large, and we only need a set of modules:\n",
    "* We can import modules by `from package import module` or `import package.module as different_name`\n",
    "* This can save memory, as the entire library may be much larger than the small components we need\n",
    "\n",
    "Example:"
   ]
  },
  {
   "cell_type": "code",
   "execution_count": null,
   "metadata": {
    "hidden": true,
    "scrolled": false
   },
   "outputs": [],
   "source": [
    "# importing \"pyplot\" module only from \"matplotlib\" and rename it as \"plt\"\n",
    "import matplotlib.pyplot as plt\n",
    "\n",
    "plt.figure()\n",
    "plt.plot([1,2,3,2,4,8])\n",
    "plt.show()"
   ]
  },
  {
   "cell_type": "markdown",
   "metadata": {
    "hidden": true
   },
   "source": [
    "Following Sections will explain a few of the common python libraries we will use in this course."
   ]
  },
  {
   "cell_type": "markdown",
   "metadata": {
    "heading_collapsed": true,
    "hidden": true
   },
   "source": [
    "### Using NumPy"
   ]
  },
  {
   "cell_type": "markdown",
   "metadata": {
    "hidden": true
   },
   "source": [
    "Numpy is a highly optimized data processing library, with the backend written in C and Fortran:\n",
    "* Easy to work with multidimensional data\n",
    "* Functions can be executed on N-D arrays, on whatever axis you want\n",
    "* Numpy has a function to perform just about every operation/transformation you can imagine, some are shown below\n",
    "\n",
    "Read more about NumPy: https://numpy.org/doc/stable/\n",
    "\n",
    "some examples:"
   ]
  },
  {
   "cell_type": "code",
   "execution_count": null,
   "metadata": {
    "hidden": true
   },
   "outputs": [],
   "source": [
    "# importing numpy\n",
    "import numpy as np\n",
    "\n",
    "# 3x3 numpy array of random floats between 0 to 1\n",
    "x = np.random.rand(3,3)\n",
    "\n",
    "print(x)\n",
    "print(type(x))"
   ]
  },
  {
   "cell_type": "code",
   "execution_count": null,
   "metadata": {
    "hidden": true
   },
   "outputs": [],
   "source": [
    "# gets the shape (dimensions) of the numpy array\n",
    "print(x.shape)\n",
    "\n",
    "# gets the min value in the np array\n",
    "print(np.min(x))\n",
    "\n",
    "# gets the min value in each row (axis=1) in the np array\n",
    "print(np.min(x, axis=1))\n",
    "\n",
    "# gets the min value in each column (axis=0) in the np array\n",
    "print(np.min(x, axis=0))"
   ]
  },
  {
   "cell_type": "markdown",
   "metadata": {
    "hidden": true
   },
   "source": [
    "Numpy supports mathematic/logical operators, and applies them to the entire array:\n",
    "* Logical operations only on integer data types\n",
    "* Mathematic operations on any numeric data types\n",
    "\n",
    "More examples:"
   ]
  },
  {
   "cell_type": "code",
   "execution_count": null,
   "metadata": {
    "hidden": true
   },
   "outputs": [],
   "source": [
    "# importing numpy (this is redundant, you only need to import once)\n",
    "import numpy as np\n",
    "\n",
    "# 3x3 numpy array of random integers between 0 to n (excluding n)\n",
    "n = 16\n",
    "x = np.random.randint(n, size=(3,3))\n",
    "\n",
    "print(x)\n",
    "print(type(x))"
   ]
  },
  {
   "cell_type": "code",
   "execution_count": null,
   "metadata": {
    "hidden": true
   },
   "outputs": [],
   "source": [
    "# substract all elements by the same value\n",
    "print(\"x - 2 =\\n\", x - 2)\n",
    "\n",
    "# bitwise AND all the elements by the same value\n",
    "print(\"x & 0x1 =\\n\", x & 0x1)\n",
    "\n",
    "# bitwise XOR all the elements by the same value\n",
    "print(\"x ^ 0xF =\\n\", x ^ 0xF)\n",
    "\n",
    "# bitwise NOT all the the elements\n",
    "print(\"~x =\\n\", ~x)\n",
    "\n",
    "# integer divide all the elements by the same value\n",
    "print(\"x // 2 =\\n\", x // 2)\n",
    "\n",
    "# float divide all the elements by the same value\n",
    "print(\"x / 2 =\\n\", x / 2)\n",
    "\n",
    "# compare (is equal?) all the elements by the same value\n",
    "print(\"(x == 1) =\\n\", x == 1)\n",
    "\n",
    "# compare (is not equal?) all the elements by the same value\n",
    "print(\"(x != 0) =\\n\", x != 0)"
   ]
  },
  {
   "cell_type": "code",
   "execution_count": null,
   "metadata": {
    "hidden": true
   },
   "outputs": [],
   "source": [
    "# you can mix multiple operations\n",
    "print((x > 7).sum())"
   ]
  },
  {
   "cell_type": "markdown",
   "metadata": {
    "heading_collapsed": true,
    "hidden": true
   },
   "source": [
    "### Using PySerial"
   ]
  },
  {
   "cell_type": "markdown",
   "metadata": {
    "hidden": true
   },
   "source": [
    "Pyserial is useful for communicating over a serial port:\n",
    "* Import name is serial, so import by `import serial`\n",
    "* Find name of serial port for desired device (e.g., `/dev/ttyUSB1` in Linux) and corresponding baudrate\n",
    "    * _Note: the Cmod S7 FPGA uses `baudrate = 115200`_\n",
    "* Has functions __read()__ and __write()__ for communication\n",
    "* Must specify number of bytes to read, don’t have to for write\n",
    "\n",
    "Some examples:"
   ]
  },
  {
   "cell_type": "code",
   "execution_count": null,
   "metadata": {
    "hidden": true
   },
   "outputs": [],
   "source": [
    "# importing PySerial\n",
    "import serial\n",
    "\n",
    "# connect to the port and set baudrate\n",
    "port = \"/dev/ttyUSB1\"\n",
    "boudrate = 115200\n",
    "ser = serial.Serial(port, boudrate)\n",
    "ser.flush()"
   ]
  },
  {
   "cell_type": "markdown",
   "metadata": {
    "hidden": true
   },
   "source": [
    "If you are not sure which port is you device connected to, you can run this code:"
   ]
  },
  {
   "cell_type": "code",
   "execution_count": null,
   "metadata": {
    "hidden": true
   },
   "outputs": [],
   "source": [
    "# first import this PySerial tool\n",
    "import serial.tools.list_ports\n",
    "\n",
    "# then, get a list of all your connected ports using this tool\n",
    "portsList = serial.tools.list_ports.comports()\n",
    "\n",
    "# finally, print the list of connected post\n",
    "print(\"--- PORTS LIST ---\")\n",
    "for p in sorted(portsList):\n",
    "    # first prints the port, then the device product\n",
    "    print(f'{p[0]} : {p[1]}')\n",
    "\n",
    "# once you identify the correct port, update and run the previous code block"
   ]
  },
  {
   "cell_type": "markdown",
   "metadata": {
    "hidden": true
   },
   "source": [
    "Example: send (write) and receive (read) data from the device"
   ]
  },
  {
   "cell_type": "code",
   "execution_count": null,
   "metadata": {
    "hidden": true
   },
   "outputs": [],
   "source": [
    "# note: this code may not currently work if you have not programmed your FPGA yet. If it gets stuck, then do \"Kernel\" > \"Interrupt\"\n",
    "\n",
    "n = 1_000_000 // 8\n",
    "n_bytes = n.to_bytes(n, 'big')\n",
    "\n",
    "ser.write(n_bytes)\n",
    "\n",
    "i = 2\n",
    "\n",
    "response = ser.read(i) # only reads i number of bytes\n",
    "\n",
    "# do something with response"
   ]
  },
  {
   "cell_type": "markdown",
   "metadata": {
    "heading_collapsed": true,
    "hidden": true
   },
   "source": [
    "### Plotting with Matplotlib: PyPlot"
   ]
  },
  {
   "cell_type": "markdown",
   "metadata": {
    "hidden": true
   },
   "source": [
    "PyPlot (from Matplotlib library) is useful for makings plots and figures\n",
    "\n",
    "PyPlot is typically imported by `import matplotlib.pyplot as plt`\n",
    "\n",
    "This is the easiest to use, as you can plot stuff with `plt.plot()`, and also set a colour as in the following:\n",
    "\n",
    "    %matplotlib notebook\n",
    "    import matplotlib.pyplot as plt\n",
    "    plt.plot([1,2,2,4,5], 'r')\n",
    "    \n",
    "`%matplotlib notebook` will make the graphs interactive!!!\n",
    "\n",
    "If you don't see the result, add the following at the end:\n",
    "\n",
    "    plt.show()\n",
    "    \n",
    "read more about PyPlots: <span class=\"mark\">https://matplotlib.org/stable/tutorials/</span>"
   ]
  },
  {
   "cell_type": "code",
   "execution_count": null,
   "metadata": {
    "hidden": true,
    "scrolled": true
   },
   "outputs": [],
   "source": [
    "%matplotlib notebook\n",
    "import matplotlib.pyplot as plt\n",
    "plt.plot([1,2,2,4,5], 'r')\n",
    "plt.show()"
   ]
  },
  {
   "cell_type": "markdown",
   "metadata": {
    "hidden": true
   },
   "source": [
    "You can also format your plots and do other things.\n",
    "\n",
    "In general for this course, you can use the following code as a template for generating your plots"
   ]
  },
  {
   "cell_type": "code",
   "execution_count": null,
   "metadata": {
    "hidden": true
   },
   "outputs": [],
   "source": [
    "%matplotlib notebook\n",
    "import matplotlib.pyplot as plt\n",
    "import numpy as np\n",
    "\n",
    "# get data to plot (NumPy recommended)\n",
    "X = np.linspace(0, 4*np.pi, 1000)\n",
    "Y1 = np.sin(X)\n",
    "Y2 = np.cos(X)\n",
    "\n",
    "# makes new empty plot\n",
    "plt.figure(figsize=(5.5,3.5), constrained_layout=True)\n",
    "# figsize: (width, height) in inches.\n",
    "# constrained_layout: makes sures the plot fits tight within the image boundaries.\n",
    "\n",
    "# plots the data\n",
    "plt.plot(X, Y1, color=\"b\", label=\"line 1\")\n",
    "plt.plot(X, Y2, color=\"r\", label=\"line 2\")\n",
    "\n",
    "# format your plots\n",
    "plt.title(\"Title\")            # adds title\n",
    "plt.xlabel(\"X-Axis\")          # adds x-axis label\n",
    "plt.ylabel(\"Y-Axis\")          # adds y-axis label\n",
    "plt.xlim(0, 10)               # sets x-axis min/max values\n",
    "plt.ylim(-1.1, 1.1)           # sets y-axis min/max values\n",
    "plt.legend(loc=\"upper right\") # adds legend\n",
    "# ... and more ...\n",
    "\n",
    "# saves the plot\n",
    "plt.savefig(\"Figures/fig-name-1.pdf\") # PDF recommended\n",
    "plt.savefig(\"Figures/fig-name-2.png\", dpi=300)\n",
    "\n",
    "# show the plot on your screen\n",
    "plt.show()"
   ]
  },
  {
   "cell_type": "code",
   "execution_count": null,
   "metadata": {
    "hidden": true
   },
   "outputs": [],
   "source": []
  }
 ],
 "metadata": {
  "kernelspec": {
   "display_name": "Python 3 (ipykernel)",
   "language": "python",
   "name": "python3"
  },
  "language_info": {
   "codemirror_mode": {
    "name": "ipython",
    "version": 3
   },
   "file_extension": ".py",
   "mimetype": "text/x-python",
   "name": "python",
   "nbconvert_exporter": "python",
   "pygments_lexer": "ipython3",
   "version": "3.9.5"
  },
  "toc": {
   "base_numbering": 1,
   "nav_menu": {},
   "number_sections": true,
   "sideBar": true,
   "skip_h1_title": false,
   "title_cell": "Table of Contents",
   "title_sidebar": "Contents",
   "toc_cell": false,
   "toc_position": {
    "height": "calc(100% - 180px)",
    "left": "10px",
    "top": "150px",
    "width": "384px"
   },
   "toc_section_display": true,
   "toc_window_display": false
  },
  "varInspector": {
   "cols": {
    "lenName": 16,
    "lenType": 16,
    "lenVar": 40
   },
   "kernels_config": {
    "python": {
     "delete_cmd_postfix": "",
     "delete_cmd_prefix": "del ",
     "library": "var_list.py",
     "varRefreshCmd": "print(var_dic_list())"
    },
    "r": {
     "delete_cmd_postfix": ") ",
     "delete_cmd_prefix": "rm(",
     "library": "var_list.r",
     "varRefreshCmd": "cat(var_dic_list()) "
    }
   },
   "types_to_exclude": [
    "module",
    "function",
    "builtin_function_or_method",
    "instance",
    "_Feature"
   ],
   "window_display": false
  }
 },
 "nbformat": 4,
 "nbformat_minor": 2
}
